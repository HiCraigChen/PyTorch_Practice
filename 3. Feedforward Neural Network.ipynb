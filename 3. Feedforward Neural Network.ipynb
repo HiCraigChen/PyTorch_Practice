{
 "cells": [
  {
   "cell_type": "markdown",
   "metadata": {},
   "source": [
    "### This practice is based on the practice 2.\n",
    "### Used one more layer in the network"
   ]
  },
  {
   "cell_type": "code",
   "execution_count": 2,
   "metadata": {
    "collapsed": true
   },
   "outputs": [],
   "source": [
    "import torch\n",
    "import torch.nn as nn\n",
    "import torchvision.datasets as dsets\n",
    "import torchvision.transforms as transforms\n",
    "from torch.autograd import Variable"
   ]
  },
  {
   "cell_type": "code",
   "execution_count": 9,
   "metadata": {
    "collapsed": false
   },
   "outputs": [
    {
     "name": "stdout",
     "output_type": "stream",
     "text": [
      "Files already downloaded\n"
     ]
    }
   ],
   "source": [
    "# Hyper Parameters \n",
    "input_size = 784\n",
    "hidden_size = 500\n",
    "num_classes = 10\n",
    "num_epochs = 5\n",
    "batch_size = 100\n",
    "learning_rate = 0.001\n",
    "\n",
    "# MNIST Dataset \n",
    "train_dataset = dsets.MNIST(root='../data', \n",
    "                            train=True, \n",
    "                            transform=transforms.ToTensor(),  \n",
    "                            download=True)\n",
    "\n",
    "test_dataset = dsets.MNIST(root='../data', \n",
    "                           train=False, \n",
    "                           transform=transforms.ToTensor())\n",
    "\n",
    "# Data Loader (Input Pipeline)\n",
    "train_loader = torch.utils.data.DataLoader(dataset=train_dataset, \n",
    "                                           batch_size=batch_size, \n",
    "                                           shuffle=True)\n",
    "\n",
    "test_loader = torch.utils.data.DataLoader(dataset=test_dataset, \n",
    "                                          batch_size=batch_size, \n",
    "                                          shuffle=False)"
   ]
  },
  {
   "cell_type": "code",
   "execution_count": 10,
   "metadata": {
    "collapsed": true
   },
   "outputs": [],
   "source": [
    "# Neural Network Model (1 hidden layer)\n",
    "class Net(nn.Module):\n",
    "    def __init__(self, input_size, hidden_size, num_classes):\n",
    "        super(Net, self).__init__()\n",
    "        self.fc1 = nn.Linear(input_size, hidden_size)        # First layer, 784 > 500\n",
    "        self.relu = nn.ReLU()                                # Activation Function : ReLU(x)=max(0,x)\n",
    "        self.fc2 = nn.Linear(hidden_size, num_classes)       # Second layer, 500 > 10\n",
    "    \n",
    "    def forward(self, x):\n",
    "        out = self.fc1(x)\n",
    "        out = self.relu(out)\n",
    "        out = self.fc2(out)\n",
    "        return out\n",
    "    \n",
    "net = Net(input_size, hidden_size, num_classes)\n",
    "    \n",
    "# Loss and Optimizer\n",
    "criterion = nn.CrossEntropyLoss()  \n",
    "optimizer = torch.optim.Adam(net.parameters(), lr=learning_rate)  "
   ]
  },
  {
   "cell_type": "code",
   "execution_count": 11,
   "metadata": {
    "collapsed": false
   },
   "outputs": [
    {
     "name": "stdout",
     "output_type": "stream",
     "text": [
      "Epoch [1/5], Step [100/600], Loss: 0.3643\n",
      "Epoch [1/5], Step [200/600], Loss: 0.2925\n",
      "Epoch [1/5], Step [300/600], Loss: 0.1483\n",
      "Epoch [1/5], Step [400/600], Loss: 0.1783\n",
      "Epoch [1/5], Step [500/600], Loss: 0.1927\n",
      "Epoch [1/5], Step [600/600], Loss: 0.1237\n",
      "Epoch [2/5], Step [100/600], Loss: 0.0953\n",
      "Epoch [2/5], Step [200/600], Loss: 0.1239\n",
      "Epoch [2/5], Step [300/600], Loss: 0.1811\n",
      "Epoch [2/5], Step [400/600], Loss: 0.0468\n",
      "Epoch [2/5], Step [500/600], Loss: 0.0785\n",
      "Epoch [2/5], Step [600/600], Loss: 0.0658\n",
      "Epoch [3/5], Step [100/600], Loss: 0.0735\n",
      "Epoch [3/5], Step [200/600], Loss: 0.0591\n",
      "Epoch [3/5], Step [300/600], Loss: 0.1666\n",
      "Epoch [3/5], Step [400/600], Loss: 0.0322\n",
      "Epoch [3/5], Step [500/600], Loss: 0.0408\n",
      "Epoch [3/5], Step [600/600], Loss: 0.1026\n",
      "Epoch [4/5], Step [100/600], Loss: 0.0315\n",
      "Epoch [4/5], Step [200/600], Loss: 0.0585\n",
      "Epoch [4/5], Step [300/600], Loss: 0.0390\n",
      "Epoch [4/5], Step [400/600], Loss: 0.0288\n",
      "Epoch [4/5], Step [500/600], Loss: 0.0628\n",
      "Epoch [4/5], Step [600/600], Loss: 0.0682\n",
      "Epoch [5/5], Step [100/600], Loss: 0.0278\n",
      "Epoch [5/5], Step [200/600], Loss: 0.0374\n",
      "Epoch [5/5], Step [300/600], Loss: 0.0454\n",
      "Epoch [5/5], Step [400/600], Loss: 0.0171\n",
      "Epoch [5/5], Step [500/600], Loss: 0.0658\n",
      "Epoch [5/5], Step [600/600], Loss: 0.0884\n",
      "Accuracy of the network on the 10000 test images: 97 %\n"
     ]
    }
   ],
   "source": [
    "# Train the Model\n",
    "for epoch in range(num_epochs):\n",
    "    for i, (images, labels) in enumerate(train_loader):  \n",
    "        # Convert torch tensor to Variable\n",
    "        images = Variable(images.view(-1, 28*28))\n",
    "        labels = Variable(labels)\n",
    "\n",
    "        \n",
    "        # Forward + Backward + Optimize\n",
    "        optimizer.zero_grad()  # zero the gradient buffer\n",
    "        outputs = net(images)\n",
    "        loss = criterion(outputs, labels)\n",
    "        loss.backward()\n",
    "        optimizer.step()\n",
    "        \n",
    "        if (i+1) % 100 == 0:\n",
    "            print ('Epoch [%d/%d], Step [%d/%d], Loss: %.4f' \n",
    "                   %(epoch+1, num_epochs, i+1, len(train_dataset)//batch_size, loss.data[0]))\n",
    "\n",
    "# Test the Model\n",
    "correct = 0\n",
    "total = 0\n",
    "for images, labels in test_loader:\n",
    "    images = Variable(images.view(-1, 28*28))\n",
    "    outputs = net(images)\n",
    "    _, predicted = torch.max(outputs.data, 1)\n",
    "    total += labels.size(0)\n",
    "    correct += (predicted == labels).sum()\n",
    "\n",
    "print('Accuracy of the network on the 10000 test images: %d %%' % (100 * correct / total))"
   ]
  },
  {
   "cell_type": "code",
   "execution_count": null,
   "metadata": {
    "collapsed": true
   },
   "outputs": [],
   "source": [
    "# Save the Model\n",
    "torch.save(net.state_dict(), 'model.pkl')"
   ]
  },
  {
   "cell_type": "code",
   "execution_count": null,
   "metadata": {
    "collapsed": true
   },
   "outputs": [],
   "source": []
  }
 ],
 "metadata": {
  "kernelspec": {
   "display_name": "Python 3",
   "language": "python",
   "name": "python3"
  },
  "language_info": {
   "codemirror_mode": {
    "name": "ipython",
    "version": 3
   },
   "file_extension": ".py",
   "mimetype": "text/x-python",
   "name": "python",
   "nbconvert_exporter": "python",
   "pygments_lexer": "ipython3",
   "version": "3.6.0"
  }
 },
 "nbformat": 4,
 "nbformat_minor": 2
}
