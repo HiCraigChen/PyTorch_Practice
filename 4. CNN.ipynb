{
 "cells": [
  {
   "cell_type": "code",
   "execution_count": 2,
   "metadata": {
    "collapsed": true
   },
   "outputs": [],
   "source": [
    "import torch \n",
    "import torch.nn as nn\n",
    "import torchvision.datasets as dsets\n",
    "import torchvision.transforms as transforms\n",
    "from torch.autograd import Variable"
   ]
  },
  {
   "cell_type": "code",
   "execution_count": 3,
   "metadata": {
    "collapsed": false
   },
   "outputs": [
    {
     "name": "stdout",
     "output_type": "stream",
     "text": [
      "Files already downloaded\n"
     ]
    }
   ],
   "source": [
    "# Hyper Parameters\n",
    "num_epochs = 5\n",
    "batch_size = 100\n",
    "learning_rate = 0.001\n",
    "\n",
    "# MNIST Dataset\n",
    "train_dataset = dsets.MNIST(root='../data/',\n",
    "                            train=True, \n",
    "                            transform=transforms.ToTensor(),\n",
    "                            download=True)\n",
    "\n",
    "test_dataset = dsets.MNIST(root='../data/',\n",
    "                           train=False, \n",
    "                           transform=transforms.ToTensor())\n",
    "\n",
    "# Data Loader (Input Pipeline)\n",
    "train_loader = torch.utils.data.DataLoader(dataset=train_dataset,\n",
    "                                           batch_size=batch_size, \n",
    "                                           shuffle=True)\n",
    "\n",
    "test_loader = torch.utils.data.DataLoader(dataset=test_dataset,\n",
    "                                          batch_size=batch_size, \n",
    "                                          shuffle=False)"
   ]
  },
  {
   "cell_type": "code",
   "execution_count": 4,
   "metadata": {
    "collapsed": true
   },
   "outputs": [],
   "source": [
    "# CNN Model (2 conv layer)\n",
    "class CNN(nn.Module):\n",
    "    def __init__(self):\n",
    "        super(CNN, self).__init__()\n",
    "        \n",
    "        # A sequential container, to manage the layer.\n",
    "        self.layer1 = nn.Sequential(                       \n",
    "            \n",
    "            # Input data : (batch_size, 1, 28, 28)\n",
    "            # Input channel is 1 (MNIST dataset is black and white which means channel = 1)\n",
    "            # Output channel is 16\n",
    "            # The inputs add 2 rows of zeros at above and bottom of the matrix \n",
    "            # And add 2 columns of zero at right and left (Cause we want 5x5)\n",
    "            # Take 5x5 small matrix each time and move default stride=1 (move one pixel) to next.\n",
    "            # Output data: (batch_size, 16, 28, 28)\n",
    "            nn.Conv2d(1, 16, kernel_size=5, padding=2),\n",
    "            \n",
    "            # Input value : Num_features = 16, Input data = (batch_size, 16 , 28, 28)\n",
    "            # Num_features from an expected input of (size batch_size x num_features x height x width)\n",
    "            # Applies Batch Normalization\n",
    "            # Output data = (batch_size, 16 , 28, 28)\n",
    "            nn.BatchNorm2d(16),\n",
    "            \n",
    "            nn.ReLU(),\n",
    "            \n",
    "            # Input value : kernel_size = 2, Input data = (batch_size, 16 , 28, 28)\n",
    "            # Transfer the information in 2x2 matrix into a new value\n",
    "            # With default stride = kernel_size, dilation = 1  (standard convolution)\n",
    "            # Input data = (batch_size, 16 , 14, 14)\n",
    "            nn.MaxPool2d(2))\n",
    "        \n",
    "        self.layer2 = nn.Sequential(\n",
    "            # (batch_size, 16 , 14, 14) > (batch_size, 32, 14, 14)\n",
    "            nn.Conv2d(16, 32, kernel_size=5, padding=2),\n",
    "            \n",
    "            #Normalize\n",
    "            nn.BatchNorm2d(32),\n",
    "            \n",
    "            nn.ReLU(),\n",
    "            \n",
    "            # (batch_size, 32, 14, 14) > (batch_size, 32 ,7, 7)\n",
    "            nn.MaxPool2d(2))\n",
    "        \n",
    "        self.fc = nn.Linear(7*7*32, 10)\n",
    "        \n",
    "    def forward(self, x):\n",
    "        out = self.layer1(x)\n",
    "        out = self.layer2(out)\n",
    "        out = out.view(out.size(0), -1)\n",
    "        out = self.fc(out)\n",
    "        return out\n",
    "        \n",
    "cnn = CNN()\n",
    "\n",
    "# Loss and Optimizer\n",
    "criterion = nn.CrossEntropyLoss()\n",
    "optimizer = torch.optim.Adam(cnn.parameters(), lr=learning_rate)"
   ]
  },
  {
   "cell_type": "code",
   "execution_count": 6,
   "metadata": {
    "collapsed": false
   },
   "outputs": [
    {
     "name": "stdout",
     "output_type": "stream",
     "text": [
      "Epoch [1/5], Iter [100/600] Loss: 0.2032\n",
      "Epoch [1/5], Iter [200/600] Loss: 0.0918\n",
      "Epoch [1/5], Iter [300/600] Loss: 0.0860\n",
      "Epoch [1/5], Iter [400/600] Loss: 0.1202\n",
      "Epoch [1/5], Iter [500/600] Loss: 0.1364\n",
      "Epoch [1/5], Iter [600/600] Loss: 0.0269\n",
      "Epoch [2/5], Iter [100/600] Loss: 0.0228\n",
      "Epoch [2/5], Iter [200/600] Loss: 0.0448\n",
      "Epoch [2/5], Iter [300/600] Loss: 0.0263\n",
      "Epoch [2/5], Iter [400/600] Loss: 0.0384\n",
      "Epoch [2/5], Iter [500/600] Loss: 0.1155\n",
      "Epoch [2/5], Iter [600/600] Loss: 0.0702\n",
      "Epoch [3/5], Iter [100/600] Loss: 0.0026\n",
      "Epoch [3/5], Iter [200/600] Loss: 0.0523\n",
      "Epoch [3/5], Iter [300/600] Loss: 0.0208\n",
      "Epoch [3/5], Iter [400/600] Loss: 0.0085\n",
      "Epoch [3/5], Iter [500/600] Loss: 0.0123\n",
      "Epoch [3/5], Iter [600/600] Loss: 0.0064\n",
      "Epoch [4/5], Iter [100/600] Loss: 0.0246\n",
      "Epoch [4/5], Iter [200/600] Loss: 0.0242\n",
      "Epoch [4/5], Iter [300/600] Loss: 0.0238\n",
      "Epoch [4/5], Iter [400/600] Loss: 0.0112\n",
      "Epoch [4/5], Iter [500/600] Loss: 0.0157\n",
      "Epoch [4/5], Iter [600/600] Loss: 0.0141\n",
      "Epoch [5/5], Iter [100/600] Loss: 0.0069\n",
      "Epoch [5/5], Iter [200/600] Loss: 0.0215\n",
      "Epoch [5/5], Iter [300/600] Loss: 0.0054\n",
      "Epoch [5/5], Iter [400/600] Loss: 0.0210\n",
      "Epoch [5/5], Iter [500/600] Loss: 0.0204\n",
      "Epoch [5/5], Iter [600/600] Loss: 0.0189\n",
      "Test Accuracy of the model on the 10000 test images: 98 %\n"
     ]
    }
   ],
   "source": [
    "# Train the Model\n",
    "for epoch in range(num_epochs):\n",
    "    for i, (images, labels) in enumerate(train_loader):\n",
    "        images = Variable(images)   # (100, 1, 28, 28)\n",
    "        labels = Variable(labels)\n",
    "        \n",
    "        # Forward + Backward + Optimize\n",
    "        optimizer.zero_grad()\n",
    "        outputs = cnn(images)\n",
    "        loss = criterion(outputs, labels)\n",
    "        loss.backward()\n",
    "        optimizer.step()\n",
    "        \n",
    "        if (i+1) % 100 == 0:\n",
    "            print ('Epoch [%d/%d], Iter [%d/%d] Loss: %.4f' \n",
    "                   %(epoch+1, num_epochs, i+1, len(train_dataset)//batch_size, loss.data[0]))\n",
    "\n",
    "# Test the Model\n",
    "cnn.eval()  # Change model to 'eval' mode (BN uses moving mean/var).\n",
    "correct = 0\n",
    "total = 0\n",
    "for images, labels in test_loader:\n",
    "    images = Variable(images)\n",
    "    outputs = cnn(images)\n",
    "    _, predicted = torch.max(outputs.data, 1)\n",
    "    total += labels.size(0)\n",
    "    correct += (predicted == labels).sum()\n",
    "\n",
    "print('Test Accuracy of the model on the 10000 test images: %d %%' % (100 * correct / total))"
   ]
  },
  {
   "cell_type": "code",
   "execution_count": null,
   "metadata": {
    "collapsed": true
   },
   "outputs": [],
   "source": [
    "# Save the Trained Model\n",
    "torch.save(cnn.state_dict(), 'cnn.pkl')"
   ]
  },
  {
   "cell_type": "code",
   "execution_count": null,
   "metadata": {
    "collapsed": true
   },
   "outputs": [],
   "source": []
  }
 ],
 "metadata": {
  "kernelspec": {
   "display_name": "Python 3",
   "language": "python",
   "name": "python3"
  },
  "language_info": {
   "codemirror_mode": {
    "name": "ipython",
    "version": 3
   },
   "file_extension": ".py",
   "mimetype": "text/x-python",
   "name": "python",
   "nbconvert_exporter": "python",
   "pygments_lexer": "ipython3",
   "version": "3.6.0"
  }
 },
 "nbformat": 4,
 "nbformat_minor": 2
}
