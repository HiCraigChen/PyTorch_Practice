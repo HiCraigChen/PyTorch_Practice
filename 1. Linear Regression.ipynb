{
 "cells": [
  {
   "cell_type": "code",
   "execution_count": 2,
   "metadata": {
    "collapsed": false
   },
   "outputs": [],
   "source": [
    "import torch\n",
    "import torch.nn as nn\n",
    "import numpy as np\n",
    "import matplotlib.pyplot as plt\n",
    "from torch.autograd import Variable"
   ]
  },
  {
   "cell_type": "code",
   "execution_count": 3,
   "metadata": {
    "collapsed": true
   },
   "outputs": [],
   "source": [
    "# Hyper Parameters\n",
    "input_size = 1\n",
    "output_size = 1\n",
    "num_epochs = 60\n",
    "learning_rate = 0.001\n",
    "\n",
    "# Toy Dataset \n",
    "x_train = np.array([[3.3], [4.4], [5.5], [6.71], [6.93], [4.168], \n",
    "                    [9.779], [6.182], [7.59], [2.167], [7.042], \n",
    "                    [10.791], [5.313], [7.997], [3.1]], dtype=np.float32)\n",
    "\n",
    "y_train = np.array([[1.7], [2.76], [2.09], [3.19], [1.694], [1.573], \n",
    "                    [3.366], [2.596], [2.53], [1.221], [2.827], \n",
    "                    [3.465], [1.65], [2.904], [1.3]], dtype=np.float32)"
   ]
  },
  {
   "cell_type": "code",
   "execution_count": 4,
   "metadata": {
    "collapsed": true
   },
   "outputs": [],
   "source": [
    "# Linear Regression Model\n",
    "class LinearRegression(nn.Module):\n",
    "    def __init__(self, input_size, output_size):\n",
    "        super(LinearRegression, self).__init__()\n",
    "        self.linear = nn.Linear(input_size, output_size)  \n",
    "    \n",
    "    def forward(self, x):\n",
    "        out = self.linear(x)\n",
    "        return out"
   ]
  },
  {
   "cell_type": "code",
   "execution_count": 5,
   "metadata": {
    "collapsed": false
   },
   "outputs": [
    {
     "name": "stdout",
     "output_type": "stream",
     "text": [
      "Parameter containing:\n",
      "1.00000e-02 *\n",
      "  7.1322\n",
      "[torch.FloatTensor of size 1x1]\n",
      "\n",
      "Parameter containing:\n",
      "-0.8632\n",
      "[torch.FloatTensor of size 1]\n",
      "\n"
     ]
    }
   ],
   "source": [
    "# Creat model\n",
    "model = nn.Linear(input_size,output_size)\n",
    "#model = LinearRegression(input_size, output_size)\n",
    "print(model.weight)\n",
    "print(model.bias)"
   ]
  },
  {
   "cell_type": "code",
   "execution_count": 6,
   "metadata": {
    "collapsed": true
   },
   "outputs": [],
   "source": [
    "# Loss and Optimizer\n",
    "criterion = nn.MSELoss()  # Calculate mean squared error\n",
    "optimizer = torch.optim.SGD(model.parameters(), lr=learning_rate)  # stochastic gradient descent "
   ]
  },
  {
   "cell_type": "code",
   "execution_count": 7,
   "metadata": {
    "collapsed": false
   },
   "outputs": [
    {
     "name": "stdout",
     "output_type": "stream",
     "text": [
      "Epoch [1/60], Loss: 7.9565\n",
      "Epoch [6/60], Loss: 3.5107\n",
      "Epoch [11/60], Loss: 1.7091\n",
      "Epoch [16/60], Loss: 0.9788\n",
      "Epoch [21/60], Loss: 0.6825\n",
      "Epoch [26/60], Loss: 0.5620\n",
      "Epoch [31/60], Loss: 0.5127\n",
      "Epoch [36/60], Loss: 0.4922\n",
      "Epoch [41/60], Loss: 0.4835\n",
      "Epoch [46/60], Loss: 0.4795\n",
      "Epoch [51/60], Loss: 0.4774\n",
      "Epoch [56/60], Loss: 0.4760\n"
     ]
    },
    {
     "data": {
      "image/png": "[encoded data removed]",
      "text/plain": [
       "<matplotlib.figure.Figure at 0x112079898>"
      ]
     },
     "metadata": {},
     "output_type": "display_data"
    }
   ],
   "source": [
    "# Convert numpy array to torch Variable\n",
    "inputs = Variable(torch.from_numpy(x_train))\n",
    "targets = Variable(torch.from_numpy(y_train))\n",
    "\n",
    "# Train the Model \n",
    "for epoch in range(num_epochs):\n",
    "\n",
    "    # Forward + Backward + Optimize\n",
    "    optimizer.zero_grad()   #Clears the gradients of all optimized Variables\n",
    "    outputs = model(inputs) # Forward\n",
    "    loss = criterion(outputs, targets) #Forward\n",
    "    loss.backward()         # Backward , nn.Criterion.backward() only do one thing : updateGradInput\n",
    "    optimizer.step()        # Optimize\n",
    "    \n",
    "    if (epoch) % 5 == 0:\n",
    "        print ('Epoch [%d/%d], Loss: %.4f' \n",
    "               %(epoch+1, num_epochs, loss.data[0]))\n",
    "        \n",
    "# Plot the graph\n",
    "predicted = model(Variable(torch.from_numpy(x_train))).data.numpy()\n",
    "plt.plot(x_train, y_train, 'ro', label='Original data')\n",
    "plt.plot(x_train, predicted, label='Fitted line')\n",
    "plt.legend()  # Place a legend on the axes.\n",
    "plt.show()\n",
    "\n",
    "# Save the Model\n",
    "#torch.save(model.state_dict(), 'model.pkl')"
   ]
  },
  {
   "cell_type": "code",
   "execution_count": 8,
   "metadata": {
    "collapsed": false
   },
   "outputs": [
    {
     "name": "stdout",
     "output_type": "stream",
     "text": [
      "Parameter containing:\n",
      " 0.4778\n",
      "[torch.FloatTensor of size 1x1]\n",
      "\n",
      "Parameter containing:\n",
      "-0.7805\n",
      "[torch.FloatTensor of size 1]\n",
      "\n"
     ]
    }
   ],
   "source": [
    "print(model.weight)\n",
    "print(model.bias)"
   ]
  },
  {
   "cell_type": "code",
   "execution_count": null,
   "metadata": {
    "collapsed": true
   },
   "outputs": [],
   "source": []
  }
 ],
 "metadata": {
  "kernelspec": {
   "display_name": "Python 3",
   "language": "python",
   "name": "python3"
  },
  "language_info": {
   "codemirror_mode": {
    "name": "ipython",
    "version": 3
   },
   "file_extension": ".py",
   "mimetype": "text/x-python",
   "name": "python",
   "nbconvert_exporter": "python",
   "pygments_lexer": "ipython3",
   "version": "3.6.0"
  }
 },
 "nbformat": 4,
 "nbformat_minor": 2
}
