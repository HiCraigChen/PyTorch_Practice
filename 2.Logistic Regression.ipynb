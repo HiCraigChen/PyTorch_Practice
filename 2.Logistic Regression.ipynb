{
 "cells": [
  {
   "cell_type": "code",
   "execution_count": 2,
   "metadata": {
    "collapsed": false
   },
   "outputs": [],
   "source": [
    "import torch\n",
    "import torch.nn as nn\n",
    "import torchvision.datasets as dsets\n",
    "import torchvision.transforms as transforms\n",
    "from torch.autograd import Variable"
   ]
  },
  {
   "cell_type": "code",
   "execution_count": 3,
   "metadata": {
    "collapsed": false
   },
   "outputs": [
    {
     "name": "stdout",
     "output_type": "stream",
     "text": [
      "Files already downloaded\n"
     ]
    }
   ],
   "source": [
    "# Hyper Parameters \n",
    "input_size = 784\n",
    "num_classes = 10\n",
    "num_epochs = 5\n",
    "batch_size = 100\n",
    "learning_rate = 0.001\n",
    "\n",
    "# MNIST Dataset (Images and Labels)\n",
    "train_dataset = dsets.MNIST(root='../data', \n",
    "                            train=True, \n",
    "                            transform=transforms.ToTensor(),\n",
    "                            download=True)\n",
    "\n",
    "test_dataset = dsets.MNIST(root='../data', \n",
    "                           train=False, \n",
    "                           transform=transforms.ToTensor())\n",
    "\n",
    "# Dataset Loader (Input Pipline)\n",
    "train_loader = torch.utils.data.DataLoader(dataset=train_dataset, \n",
    "                                           batch_size=batch_size, \n",
    "                                           shuffle=True)\n",
    "\n",
    "test_loader = torch.utils.data.DataLoader(dataset=test_dataset, \n",
    "                                          batch_size=batch_size, \n",
    "                                          shuffle=False)\n",
    "\n",
    "# Model\n",
    "class LogisticRegression(nn.Module):\n",
    "    def __init__(self, input_size, num_classes):\n",
    "        super(LogisticRegression, self).__init__()\n",
    "        self.linear = nn.Linear(input_size, num_classes)\n",
    "    \n",
    "    def forward(self, x):\n",
    "        out = self.linear(x)\n",
    "        return out\n",
    "\n",
    "model = LogisticRegression(input_size, num_classes)\n",
    "\n",
    "# Loss and Optimizer\n",
    "# Softmax is internally computed.\n",
    "# Set parameters to be updated.\n",
    "criterion = nn.CrossEntropyLoss()    # The loss function for classify \n",
    "optimizer = torch.optim.SGD(model.parameters(), lr=learning_rate)  "
   ]
  },
  {
   "cell_type": "code",
   "execution_count": 4,
   "metadata": {
    "collapsed": false
   },
   "outputs": [
    {
     "name": "stdout",
     "output_type": "stream",
     "text": [
      "Epoch: [1/5], Step: [100/600], Loss: 2.1775\n",
      "Epoch: [1/5], Step: [200/600], Loss: 2.0936\n",
      "Epoch: [1/5], Step: [300/600], Loss: 1.9679\n",
      "Epoch: [1/5], Step: [400/600], Loss: 1.9093\n",
      "Epoch: [1/5], Step: [500/600], Loss: 1.8866\n",
      "Epoch: [1/5], Step: [600/600], Loss: 1.8149\n",
      "Epoch: [2/5], Step: [100/600], Loss: 1.6539\n",
      "Epoch: [2/5], Step: [200/600], Loss: 1.7051\n",
      "Epoch: [2/5], Step: [300/600], Loss: 1.5585\n",
      "Epoch: [2/5], Step: [400/600], Loss: 1.5482\n",
      "Epoch: [2/5], Step: [500/600], Loss: 1.4168\n",
      "Epoch: [2/5], Step: [600/600], Loss: 1.4819\n",
      "Epoch: [3/5], Step: [100/600], Loss: 1.4792\n",
      "Epoch: [3/5], Step: [200/600], Loss: 1.3251\n",
      "Epoch: [3/5], Step: [300/600], Loss: 1.1989\n",
      "Epoch: [3/5], Step: [400/600], Loss: 1.3185\n",
      "Epoch: [3/5], Step: [500/600], Loss: 1.3318\n",
      "Epoch: [3/5], Step: [600/600], Loss: 1.2686\n",
      "Epoch: [4/5], Step: [100/600], Loss: 1.2063\n",
      "Epoch: [4/5], Step: [200/600], Loss: 1.1406\n",
      "Epoch: [4/5], Step: [300/600], Loss: 1.1577\n",
      "Epoch: [4/5], Step: [400/600], Loss: 1.1316\n",
      "Epoch: [4/5], Step: [500/600], Loss: 1.1148\n",
      "Epoch: [4/5], Step: [600/600], Loss: 1.1624\n",
      "Epoch: [5/5], Step: [100/600], Loss: 1.0145\n",
      "Epoch: [5/5], Step: [200/600], Loss: 1.1617\n",
      "Epoch: [5/5], Step: [300/600], Loss: 1.0246\n",
      "Epoch: [5/5], Step: [400/600], Loss: 1.0540\n",
      "Epoch: [5/5], Step: [500/600], Loss: 1.0645\n",
      "Epoch: [5/5], Step: [600/600], Loss: 0.9952\n",
      "Accuracy of the model on the 10000 test images: 82 %\n"
     ]
    }
   ],
   "source": [
    "# Training the Model\n",
    "for epoch in range(num_epochs):\n",
    "    for i, (images, labels) in enumerate(train_loader):# Nice way to get iterating counts and the data you want.\n",
    "        images = Variable(images.view(-1, 28*28))      # Get a 100 x 784 matrix, every row contains 28x28 = 784 numbers. \n",
    "        labels = Variable(labels)                      # Get a 100 x  1  matrix, with 0~9 in every row\n",
    "        \n",
    "        # Forward + Backward + Optimize\n",
    "        optimizer.zero_grad()\n",
    "        outputs = model(images)\n",
    "        loss = criterion(outputs, labels)\n",
    "        loss.backward()\n",
    "        optimizer.step()\n",
    "        \n",
    "        if (i+1) % 100 == 0:\n",
    "            print ('Epoch: [%d/%d], Step: [%d/%d], Loss: %.4f' \n",
    "                   % (epoch+1, num_epochs, i+1, len(train_dataset)//batch_size, loss.data[0]))\n",
    "\n",
    "# Test the Model\n",
    "correct = 0\n",
    "total = 0\n",
    "for images, labels in test_loader:\n",
    "    images = Variable(images.view(-1, 28*28))   # Get a 100 x 784 matrix\n",
    "    outputs = model(images)\n",
    "    _, predicted = torch.max(outputs.data, 1)   # Output.data > get numbers in output\n",
    "    #Returns the maximum value of each row of the input Tensor in the given dimension dim.  > First return\n",
    "    #＊＊＊Also returns the index location of each maximum value found.                      > Second return\n",
    "    total += labels.size(0)                     # To know how many lables in total.\n",
    "    correct += (predicted == labels).sum()      # Count correct prediction.\n",
    "    \n",
    "print('Accuracy of the model on the 10000 test images: %d %%' % (100 * correct / total))"
   ]
  },
  {
   "cell_type": "code",
   "execution_count": null,
   "metadata": {
    "collapsed": true
   },
   "outputs": [],
   "source": [
    "# Save the Model\n",
    "torch.save(model.state_dict(), 'model.pkl')"
   ]
  },
  {
   "cell_type": "code",
   "execution_count": null,
   "metadata": {
    "collapsed": false
   },
   "outputs": [],
   "source": []
  },
  {
   "cell_type": "code",
   "execution_count": null,
   "metadata": {
    "collapsed": true
   },
   "outputs": [],
   "source": []
  }
 ],
 "metadata": {
  "kernelspec": {
   "display_name": "Python 3",
   "language": "python",
   "name": "python3"
  },
  "language_info": {
   "codemirror_mode": {
    "name": "ipython",
    "version": 3
   },
   "file_extension": ".py",
   "mimetype": "text/x-python",
   "name": "python",
   "nbconvert_exporter": "python",
   "pygments_lexer": "ipython3",
   "version": "3.6.0"
  }
 },
 "nbformat": 4,
 "nbformat_minor": 2
}
